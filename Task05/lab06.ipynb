{
 "cells": [
  {
   "cell_type": "markdown",
   "metadata": {},
   "source": [
    "==> is python support multiple inheritance or not ?\n",
    "Yes, Python does support multiple inheritance. \n",
    "It allows a class to inherit attributes and methods from multiple parent classes. \n",
    "It can sometimes lead to complexity and issues like the \"diamond problem\" where \n",
    "conflicts arise if both parent classes define methods with the same name."
   ]
  },
  {
   "cell_type": "markdown",
   "metadata": {},
   "source": [
    "how can you implement it using example?"
   ]
  },
  {
   "cell_type": "code",
   "execution_count": 2,
   "metadata": {},
   "outputs": [
    {
     "name": "stdout",
     "output_type": "stream",
     "text": [
      "Donald makes a sound.\n",
      "Swimming animal\n",
      "Quack quack!\n"
     ]
    }
   ],
   "source": [
    "#parents classes\n",
    "class Animal:\n",
    "    def __init__(self, name):\n",
    "        self.name = name\n",
    "    \n",
    "    def speak(self):\n",
    "        print(f\"{self.name} makes a sound.\")\n",
    "\n",
    "class Swimmer:\n",
    "    def swim(self):\n",
    "        print(\"Swimming animal\")\n",
    "\n",
    "#multiple inhartence\n",
    "class Duck(Animal, Swimmer):\n",
    "    def __init__(self, name):\n",
    "        Animal.__init__(self, name)\n",
    "    \n",
    "    def quack(self):\n",
    "        print(\"Quack quack!\")\n",
    "\n",
    "\n",
    "my_duck = Duck(\"Donald\")\n",
    "my_duck.speak()  \n",
    "my_duck.swim()   \n",
    "my_duck.quack()"
   ]
  }
 ],
 "metadata": {
  "kernelspec": {
   "display_name": "Python 3",
   "language": "python",
   "name": "python3"
  },
  "language_info": {
   "codemirror_mode": {
    "name": "ipython",
    "version": 3
   },
   "file_extension": ".py",
   "mimetype": "text/x-python",
   "name": "python",
   "nbconvert_exporter": "python",
   "pygments_lexer": "ipython3",
   "version": "3.10.13"
  }
 },
 "nbformat": 4,
 "nbformat_minor": 2
}
