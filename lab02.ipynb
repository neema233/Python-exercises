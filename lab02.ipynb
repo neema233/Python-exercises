{
 "cells": [
  {
   "cell_type": "code",
   "execution_count": 15,
   "metadata": {},
   "outputs": [],
   "source": [
    "import types,re"
   ]
  },
  {
   "cell_type": "code",
   "execution_count": 9,
   "metadata": {},
   "outputs": [
    {
     "name": "stdout",
     "output_type": "stream",
     "text": [
      "[1, 2, 3, 4]\n"
     ]
    }
   ],
   "source": [
    "def getnum (start,length ):\n",
    "    if isinstance(start,int) and isinstance(length,int):\n",
    "        mylist=[]\n",
    "        for i in range(0,length):\n",
    "            mylist.append(start)\n",
    "            start+=1\n",
    "        print(mylist) \n",
    "    else:\n",
    "        print(\"please enter numbers for length and start\")  \n",
    "\n",
    "getnum(1,4)"
   ]
  },
  {
   "cell_type": "code",
   "execution_count": 67,
   "metadata": {},
   "outputs": [
    {
     "name": "stdout",
     "output_type": "stream",
     "text": [
      "buzz\n"
     ]
    }
   ],
   "source": [
    "def getarg(num):\n",
    "    if isinstance(num, int):\n",
    "        if num%3==0 and num%5==0:\n",
    "            print('Fizzbuzz')\n",
    "        elif num%3==0:\n",
    "            print('Fizz')    \n",
    "        elif num%5==0:\n",
    "            print('buzz')\n",
    "        else :\n",
    "            print('The number is not diviosanble on 3 neither 5')\n",
    "    else:\n",
    "        print('please enter num')\n",
    "getarg(25)\n"
   ]
  },
  {
   "cell_type": "code",
   "execution_count": 68,
   "metadata": {},
   "outputs": [
    {
     "name": "stdout",
     "output_type": "stream",
     "text": [
      "namyA\n"
     ]
    }
   ],
   "source": [
    "def mystring(text):\n",
    "    if isinstance(text,str):\n",
    "        text=text[::-1]\n",
    "        print(text)\n",
    "    else :\n",
    "        print('enter string')\n",
    "\n",
    "mystring('Ayman')"
   ]
  },
  {
   "cell_type": "code",
   "execution_count": 2,
   "metadata": {},
   "outputs": [
    {
     "name": "stdout",
     "output_type": "stream",
     "text": [
      "Enter Correct Name without spaces\n"
     ]
    }
   ],
   "source": [
    "def user_def():\n",
    "    user =input(\"Enter name:\")\n",
    "    if \" \" not in user and isinstance(user,str):\n",
    "        email=input(\"Enter Email Please:\")\n",
    "        pattern = r\"^[^@]+@[^@]+\\.[a-zA-Z]{2,}$\"\n",
    "        if bool(re.match(pattern, email)) :\n",
    "            print(f\"username is : {user}, email is {email}\")\n",
    "        else:\n",
    "            print(\"Enter Valid email\")\n",
    "    else:\n",
    "        print(\"Enter Correct Name without spaces\")\n",
    "\n",
    "user_def()"
   ]
  },
  {
   "cell_type": "code",
   "execution_count": 70,
   "metadata": {},
   "outputs": [
    {
     "data": {
      "text/plain": [
       "' ahm'"
      ]
     },
     "execution_count": 70,
     "metadata": {},
     "output_type": "execute_result"
    }
   ],
   "source": [
    "def longest_string(text_entered):\n",
    "    if isinstance(text_entered,str):\n",
    "        current_substring = \"\"\n",
    "        longest_substring = \"\"\n",
    "        for i in range(len(text_entered)):\n",
    "            if i == 0 or text_entered[i] >= text_entered[i - 1]:\n",
    "                current_substring += text_entered[i]\n",
    "            else:\n",
    "                if len(current_substring) > len(longest_substring):\n",
    "                    longest_substring = current_substring\n",
    "                current_substring = text_entered[i]\n",
    "        return longest_substring\n",
    "    else:\n",
    "        print(\"please Enter String\")\n",
    "longest_string(\"ayman ahmed\")"
   ]
  },
  {
   "cell_type": "code",
   "execution_count": 71,
   "metadata": {},
   "outputs": [],
   "source": [
    "def enter_number():\n",
    "    total=0\n",
    "    num_average=0\n",
    "    num_count=0\n",
    "    while True:\n",
    "        num=input(\"Enter number\")\n",
    "        if num.isdigit() :\n",
    "            num=int(num)\n",
    "            total+=num\n",
    "            num_count+=1\n",
    "            continue\n",
    "        elif num=='done':\n",
    "            if num_count >0:\n",
    "                num_average=total/num_count\n",
    "                print(f\"total is {total},count is {num_count},avg is {num_average}\")\n",
    "                break\n",
    "            else:\n",
    "                print(\"no numbers is entered\")\n",
    "                break\n",
    "        else:\n",
    "            print(\"plese enter num\")\n"
   ]
  },
  {
   "cell_type": "code",
   "execution_count": 72,
   "metadata": {},
   "outputs": [
    {
     "name": "stdout",
     "output_type": "stream",
     "text": [
      "total is 130,count is 5,avg is 26.0\n"
     ]
    }
   ],
   "source": [
    "enter_number()"
   ]
  },
  {
   "cell_type": "code",
   "execution_count": 2,
   "metadata": {},
   "outputs": [
    {
     "name": "stdout",
     "output_type": "stream",
     "text": [
      "hello ahmed\n",
      "Not correct guess. Try Enter letter again\n",
      "_i_i\n",
      "enter letter:\n",
      "ki_i\n",
      "kiwi\n",
      "gongratoation the word is kiwi\n"
     ]
    }
   ],
   "source": [
    "from ntpath import join\n",
    "\n",
    "\n",
    "words = {\"apple\",\"banana\", \"orange\", \"kiwi\"}\n",
    "\n",
    "selected_word = words.pop()\n",
    "tries=7\n",
    "guesses_list=[]\n",
    "progress_list = [\"_\"] * len(selected_word)\n",
    "name = input(\"Enter your name: \")\n",
    "if name.lower().isalpha():\n",
    "  print(f\"hello {name}\")\n",
    "else:\n",
    "  print(\"Invaild name\")\n",
    "\n",
    "while tries > 0:\n",
    "  guess_letter = input(\"Guess a letter: \").lower()\n",
    "  if guess_letter.isalpha():\n",
    "    if guess_letter in guesses_list:\n",
    "      print(\"You already guessed that letter. Try again.\")\n",
    "      tries-=1\n",
    "      continue\n",
    "    guesses_list.append(guess_letter)\n",
    "\n",
    "    if guess_letter in selected_word:\n",
    "      for i, letter in enumerate(selected_word):\n",
    "        if letter == guess_letter:\n",
    "          progress_list[i] = guess_letter\n",
    "          progress=''.join(progress_list)\n",
    "          tries-=1\n",
    "      print(progress)\n",
    "    else:\n",
    "      print(\"Not correct guess. Try Enter letter again\")\n",
    "      tries-=1\n",
    "      continue\n",
    "\n",
    "  else:\n",
    "   print(\"not correct Enter letter please:\")\n",
    "   tries-=1\n",
    "   continue\n",
    "  \n",
    "  if progress==selected_word:\n",
    "    print(f\"gongratoation the word is {selected_word}\")\n",
    "    break\n",
    "  \n",
    "\n",
    "else:\n",
    "  print(f\"\\nSorry, {name}. You ran out of guesses. The word was: {selected_word}\")"
   ]
  },
  {
   "cell_type": "code",
   "execution_count": null,
   "metadata": {},
   "outputs": [],
   "source": []
  }
 ],
 "metadata": {
  "kernelspec": {
   "display_name": "Python 3",
   "language": "python",
   "name": "python3"
  },
  "language_info": {
   "codemirror_mode": {
    "name": "ipython",
    "version": 3
   },
   "file_extension": ".py",
   "mimetype": "text/x-python",
   "name": "python",
   "nbconvert_exporter": "python",
   "pygments_lexer": "ipython3",
   "version": "3.10.13"
  }
 },
 "nbformat": 4,
 "nbformat_minor": 2
}
